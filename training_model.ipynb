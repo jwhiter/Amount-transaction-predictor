{
 "cells": [
  {
   "cell_type": "markdown",
   "metadata": {},
   "source": [
    "## DATA PREPROCESSING\n",
    "\n",
    "his section outlines the preprocessing steps performed to prepare the data for model training:\n",
    "\n",
    "1. **Remove Irrelevant Features and Handle Missing Values:** The data was cleaned by removing irrelevant features and addressing missing values.\n",
    "\n",
    "2. **Feature Engineering:** New features were engineered to capture additional information that could enhance the model's performance.\n",
    "\n",
    "3. **Encoding Categorical Variables:** Categorical variables were encoded into numerical format for compatibility with the modeling process.\n",
    "\n",
    "4. **Balancing Dataset:** To address data imbalance, random undersampling was applied to create a more balanced dataset for training purposes."
   ]
  },
  {
   "cell_type": "code",
   "execution_count": 1,
   "metadata": {},
   "outputs": [],
   "source": [
    "import pandas as pd\n",
    "raw_data = pd.read_csv(\"./data/2016-09-19_79351_training.csv\")"
   ]
  },
  {
   "cell_type": "markdown",
   "metadata": {},
   "source": [
    "### Removing useless features"
   ]
  },
  {
   "cell_type": "code",
   "execution_count": 2,
   "metadata": {},
   "outputs": [],
   "source": [
    "raw_data = raw_data.drop(columns=['dataset_transaction', 'dataset_user'])"
   ]
  },
  {
   "cell_type": "markdown",
   "metadata": {},
   "source": [
    "### Handling missing values"
   ]
  },
  {
   "cell_type": "code",
   "execution_count": 3,
   "metadata": {},
   "outputs": [
    {
     "name": "stdout",
     "output_type": "stream",
     "text": [
      "user_id                  0\n",
      "transaction_date         0\n",
      "transaction_type         0\n",
      "mcc_group           150222\n",
      "amount_currency          0\n",
      "dtype: int64\n"
     ]
    }
   ],
   "source": [
    "# checking for in all features\n",
    "print(raw_data.isnull().sum())"
   ]
  },
  {
   "cell_type": "code",
   "execution_count": 4,
   "metadata": {},
   "outputs": [
    {
     "name": "stdout",
     "output_type": "stream",
     "text": [
      "All values: 408546\n",
      "Missing values: 150222\n"
     ]
    }
   ],
   "source": [
    "# check for missing values in mcc_group\n",
    "mcc_group_len = len(raw_data['mcc_group'])\n",
    "missing_values = raw_data['mcc_group'].isnull().sum()\n",
    "print(f\"All values: {mcc_group_len}\")\n",
    "print(f\"Missing values: {missing_values}\")\n"
   ]
  },
  {
   "cell_type": "code",
   "execution_count": 5,
   "metadata": {},
   "outputs": [],
   "source": [
    "# Replace \"NaN\" strings with actual NaN values\n",
    "raw_data['mcc_group']= raw_data['mcc_group'].replace(\"NaN\", float(\"NaN\"))\n",
    "\n",
    "# Replace NaN values with 0\n",
    "raw_data['mcc_group'] = raw_data['mcc_group'].fillna(0).astype(int)"
   ]
  },
  {
   "cell_type": "code",
   "execution_count": 6,
   "metadata": {},
   "outputs": [
    {
     "name": "stdout",
     "output_type": "stream",
     "text": [
      "Missing values after filling with 0:\n",
      "user_id             0\n",
      "transaction_date    0\n",
      "transaction_type    0\n",
      "mcc_group           0\n",
      "amount_currency     0\n",
      "dtype: int64\n"
     ]
    }
   ],
   "source": [
    "# Check if missing values have been replaced\n",
    "print(\"Missing values after filling with 0:\")\n",
    "print(raw_data.isnull().sum())"
   ]
  },
  {
   "cell_type": "markdown",
   "metadata": {},
   "source": [
    "### Feature Engineering"
   ]
  },
  {
   "cell_type": "code",
   "execution_count": 7,
   "metadata": {},
   "outputs": [],
   "source": [
    "# Transforminf transaction_date to date format\n",
    "raw_data['transaction_date'] = pd.to_datetime(raw_data['transaction_date'])\n",
    "\n",
    "# Extract day and adding it as a new feature\n",
    "raw_data['transaction_day'] = raw_data['transaction_date'].dt.day\n",
    "\n",
    "# Removing 'transaction_date' feature\n",
    "raw_data = raw_data.drop(columns=['transaction_date'])\n"
   ]
  },
  {
   "cell_type": "markdown",
   "metadata": {},
   "source": [
    "### Enconding Variables in One Hot Encoding / Label encoding "
   ]
  },
  {
   "cell_type": "markdown",
   "metadata": {},
   "source": [
    "#### 1. Applying Label encoding to 'user_id' feature"
   ]
  },
  {
   "cell_type": "code",
   "execution_count": 8,
   "metadata": {},
   "outputs": [
    {
     "data": {
      "text/html": [
       "<div>\n",
       "<style scoped>\n",
       "    .dataframe tbody tr th:only-of-type {\n",
       "        vertical-align: middle;\n",
       "    }\n",
       "\n",
       "    .dataframe tbody tr th {\n",
       "        vertical-align: top;\n",
       "    }\n",
       "\n",
       "    .dataframe thead th {\n",
       "        text-align: right;\n",
       "    }\n",
       "</style>\n",
       "<table border=\"1\" class=\"dataframe\">\n",
       "  <thead>\n",
       "    <tr style=\"text-align: right;\">\n",
       "      <th></th>\n",
       "      <th>user_id</th>\n",
       "      <th>transaction_type</th>\n",
       "      <th>mcc_group</th>\n",
       "      <th>amount_currency</th>\n",
       "      <th>transaction_day</th>\n",
       "    </tr>\n",
       "  </thead>\n",
       "  <tbody>\n",
       "    <tr>\n",
       "      <th>408541</th>\n",
       "      <td>bc639c7495889105713fc6b1025264ac</td>\n",
       "      <td>DT</td>\n",
       "      <td>0</td>\n",
       "      <td>5</td>\n",
       "      <td>31</td>\n",
       "    </tr>\n",
       "    <tr>\n",
       "      <th>408542</th>\n",
       "      <td>0dfb685e3d705957ef9e0c472604b067</td>\n",
       "      <td>DT</td>\n",
       "      <td>0</td>\n",
       "      <td>155</td>\n",
       "      <td>31</td>\n",
       "    </tr>\n",
       "    <tr>\n",
       "      <th>408543</th>\n",
       "      <td>918eb93c2d3b084614e3570886715f84</td>\n",
       "      <td>DT</td>\n",
       "      <td>0</td>\n",
       "      <td>19</td>\n",
       "      <td>31</td>\n",
       "    </tr>\n",
       "    <tr>\n",
       "      <th>408544</th>\n",
       "      <td>918eb93c2d3b084614e3570886715f84</td>\n",
       "      <td>DT</td>\n",
       "      <td>0</td>\n",
       "      <td>19</td>\n",
       "      <td>31</td>\n",
       "    </tr>\n",
       "    <tr>\n",
       "      <th>408545</th>\n",
       "      <td>25afbb78936ce100bbd1e61cecb37403</td>\n",
       "      <td>DT</td>\n",
       "      <td>0</td>\n",
       "      <td>36</td>\n",
       "      <td>31</td>\n",
       "    </tr>\n",
       "  </tbody>\n",
       "</table>\n",
       "</div>"
      ],
      "text/plain": [
       "                                 user_id transaction_type  mcc_group  \\\n",
       "408541  bc639c7495889105713fc6b1025264ac               DT          0   \n",
       "408542  0dfb685e3d705957ef9e0c472604b067               DT          0   \n",
       "408543  918eb93c2d3b084614e3570886715f84               DT          0   \n",
       "408544  918eb93c2d3b084614e3570886715f84               DT          0   \n",
       "408545  25afbb78936ce100bbd1e61cecb37403               DT          0   \n",
       "\n",
       "        amount_currency  transaction_day  \n",
       "408541                5               31  \n",
       "408542              155               31  \n",
       "408543               19               31  \n",
       "408544               19               31  \n",
       "408545               36               31  "
      ]
     },
     "execution_count": 8,
     "metadata": {},
     "output_type": "execute_result"
    }
   ],
   "source": [
    "raw_data.tail()"
   ]
  },
  {
   "cell_type": "code",
   "execution_count": 9,
   "metadata": {},
   "outputs": [],
   "source": [
    "from sklearn.preprocessing import LabelEncoder\n",
    "import pickle\n",
    "# Encoding the user id\n",
    "# Initialize LabelEncoder\n",
    "label_encoder = LabelEncoder()\n",
    "\n",
    "# Fit label encoder to user_id column\n",
    "label_encoder.fit(raw_data['user_id'])\n",
    "raw_data['user_id'] = label_encoder.transform(raw_data['user_id'])\n",
    "\n",
    "# Save LabelEncoder to a file using pickle\n",
    "with open('./encoder/label_encoder.pkl', 'wb') as f:\n",
    "    pickle.dump(label_encoder, f)"
   ]
  },
  {
   "cell_type": "code",
   "execution_count": 10,
   "metadata": {},
   "outputs": [
    {
     "data": {
      "text/html": [
       "<div>\n",
       "<style scoped>\n",
       "    .dataframe tbody tr th:only-of-type {\n",
       "        vertical-align: middle;\n",
       "    }\n",
       "\n",
       "    .dataframe tbody tr th {\n",
       "        vertical-align: top;\n",
       "    }\n",
       "\n",
       "    .dataframe thead th {\n",
       "        text-align: right;\n",
       "    }\n",
       "</style>\n",
       "<table border=\"1\" class=\"dataframe\">\n",
       "  <thead>\n",
       "    <tr style=\"text-align: right;\">\n",
       "      <th></th>\n",
       "      <th>user_id</th>\n",
       "      <th>transaction_type</th>\n",
       "      <th>mcc_group</th>\n",
       "      <th>amount_currency</th>\n",
       "      <th>transaction_day</th>\n",
       "    </tr>\n",
       "  </thead>\n",
       "  <tbody>\n",
       "    <tr>\n",
       "      <th>0</th>\n",
       "      <td>6549</td>\n",
       "      <td>DT</td>\n",
       "      <td>0</td>\n",
       "      <td>350</td>\n",
       "      <td>1</td>\n",
       "    </tr>\n",
       "    <tr>\n",
       "      <th>1</th>\n",
       "      <td>6903</td>\n",
       "      <td>DT</td>\n",
       "      <td>0</td>\n",
       "      <td>202</td>\n",
       "      <td>1</td>\n",
       "    </tr>\n",
       "    <tr>\n",
       "      <th>2</th>\n",
       "      <td>4863</td>\n",
       "      <td>DT</td>\n",
       "      <td>0</td>\n",
       "      <td>291</td>\n",
       "      <td>1</td>\n",
       "    </tr>\n",
       "    <tr>\n",
       "      <th>3</th>\n",
       "      <td>8005</td>\n",
       "      <td>DT</td>\n",
       "      <td>0</td>\n",
       "      <td>214</td>\n",
       "      <td>1</td>\n",
       "    </tr>\n",
       "    <tr>\n",
       "      <th>4</th>\n",
       "      <td>2922</td>\n",
       "      <td>DT</td>\n",
       "      <td>0</td>\n",
       "      <td>272</td>\n",
       "      <td>1</td>\n",
       "    </tr>\n",
       "  </tbody>\n",
       "</table>\n",
       "</div>"
      ],
      "text/plain": [
       "   user_id transaction_type  mcc_group  amount_currency  transaction_day\n",
       "0     6549               DT          0              350                1\n",
       "1     6903               DT          0              202                1\n",
       "2     4863               DT          0              291                1\n",
       "3     8005               DT          0              214                1\n",
       "4     2922               DT          0              272                1"
      ]
     },
     "execution_count": 10,
     "metadata": {},
     "output_type": "execute_result"
    }
   ],
   "source": [
    "raw_data.head()"
   ]
  },
  {
   "cell_type": "markdown",
   "metadata": {},
   "source": [
    "#### 2. Applying one hot encoding to 'transaction_type' and 'mcc_group'\n",
    "\n",
    "Applying one-hot encoding to 'transaction_type' and 'mcc_group' is beneficial due to their low cardinality, meaning they have only a few distinct values. This encoding technique efficiently represents these categorical features in a binary format, which is simple and computationally efficient, making it suitable for our modeling task"
   ]
  },
  {
   "cell_type": "code",
   "execution_count": 11,
   "metadata": {},
   "outputs": [],
   "source": [
    "# Perform one-hot encoding\n",
    "one_hot_encoded_type = pd.get_dummies(raw_data['transaction_type'], prefix='transaction')\n",
    "one_hot_encoded_mcc_group = pd.get_dummies(raw_data['mcc_group'], prefix='mcc_group')\n",
    "# Convert True/False to 1/0\n",
    "one_hot_encoded_type = one_hot_encoded_type.astype(int)\n",
    "one_hot_encoded_mcc_group = one_hot_encoded_mcc_group.astype(int)\n",
    "\n",
    "# Concatenate one-hot encoded features with original DataFrame\n",
    "raw_data = pd.concat([raw_data, one_hot_encoded_type, one_hot_encoded_mcc_group], axis=1)\n",
    "\n",
    "# Removing 'transaction_date' feature\n",
    "raw_data = raw_data.drop(columns=['transaction_type', 'mcc_group'])"
   ]
  },
  {
   "cell_type": "code",
   "execution_count": 12,
   "metadata": {},
   "outputs": [
    {
     "data": {
      "text/html": [
       "<div>\n",
       "<style scoped>\n",
       "    .dataframe tbody tr th:only-of-type {\n",
       "        vertical-align: middle;\n",
       "    }\n",
       "\n",
       "    .dataframe tbody tr th {\n",
       "        vertical-align: top;\n",
       "    }\n",
       "\n",
       "    .dataframe thead th {\n",
       "        text-align: right;\n",
       "    }\n",
       "</style>\n",
       "<table border=\"1\" class=\"dataframe\">\n",
       "  <thead>\n",
       "    <tr style=\"text-align: right;\">\n",
       "      <th></th>\n",
       "      <th>user_id</th>\n",
       "      <th>amount_currency</th>\n",
       "      <th>transaction_day</th>\n",
       "      <th>transaction_BBU</th>\n",
       "      <th>transaction_BUB</th>\n",
       "      <th>transaction_CT</th>\n",
       "      <th>transaction_DD</th>\n",
       "      <th>transaction_DR</th>\n",
       "      <th>transaction_DT</th>\n",
       "      <th>transaction_FT</th>\n",
       "      <th>...</th>\n",
       "      <th>mcc_group_8</th>\n",
       "      <th>mcc_group_9</th>\n",
       "      <th>mcc_group_10</th>\n",
       "      <th>mcc_group_11</th>\n",
       "      <th>mcc_group_12</th>\n",
       "      <th>mcc_group_13</th>\n",
       "      <th>mcc_group_14</th>\n",
       "      <th>mcc_group_15</th>\n",
       "      <th>mcc_group_16</th>\n",
       "      <th>mcc_group_17</th>\n",
       "    </tr>\n",
       "  </thead>\n",
       "  <tbody>\n",
       "    <tr>\n",
       "      <th>0</th>\n",
       "      <td>6549</td>\n",
       "      <td>350</td>\n",
       "      <td>1</td>\n",
       "      <td>0</td>\n",
       "      <td>0</td>\n",
       "      <td>0</td>\n",
       "      <td>0</td>\n",
       "      <td>0</td>\n",
       "      <td>1</td>\n",
       "      <td>0</td>\n",
       "      <td>...</td>\n",
       "      <td>0</td>\n",
       "      <td>0</td>\n",
       "      <td>0</td>\n",
       "      <td>0</td>\n",
       "      <td>0</td>\n",
       "      <td>0</td>\n",
       "      <td>0</td>\n",
       "      <td>0</td>\n",
       "      <td>0</td>\n",
       "      <td>0</td>\n",
       "    </tr>\n",
       "    <tr>\n",
       "      <th>1</th>\n",
       "      <td>6903</td>\n",
       "      <td>202</td>\n",
       "      <td>1</td>\n",
       "      <td>0</td>\n",
       "      <td>0</td>\n",
       "      <td>0</td>\n",
       "      <td>0</td>\n",
       "      <td>0</td>\n",
       "      <td>1</td>\n",
       "      <td>0</td>\n",
       "      <td>...</td>\n",
       "      <td>0</td>\n",
       "      <td>0</td>\n",
       "      <td>0</td>\n",
       "      <td>0</td>\n",
       "      <td>0</td>\n",
       "      <td>0</td>\n",
       "      <td>0</td>\n",
       "      <td>0</td>\n",
       "      <td>0</td>\n",
       "      <td>0</td>\n",
       "    </tr>\n",
       "    <tr>\n",
       "      <th>2</th>\n",
       "      <td>4863</td>\n",
       "      <td>291</td>\n",
       "      <td>1</td>\n",
       "      <td>0</td>\n",
       "      <td>0</td>\n",
       "      <td>0</td>\n",
       "      <td>0</td>\n",
       "      <td>0</td>\n",
       "      <td>1</td>\n",
       "      <td>0</td>\n",
       "      <td>...</td>\n",
       "      <td>0</td>\n",
       "      <td>0</td>\n",
       "      <td>0</td>\n",
       "      <td>0</td>\n",
       "      <td>0</td>\n",
       "      <td>0</td>\n",
       "      <td>0</td>\n",
       "      <td>0</td>\n",
       "      <td>0</td>\n",
       "      <td>0</td>\n",
       "    </tr>\n",
       "    <tr>\n",
       "      <th>3</th>\n",
       "      <td>8005</td>\n",
       "      <td>214</td>\n",
       "      <td>1</td>\n",
       "      <td>0</td>\n",
       "      <td>0</td>\n",
       "      <td>0</td>\n",
       "      <td>0</td>\n",
       "      <td>0</td>\n",
       "      <td>1</td>\n",
       "      <td>0</td>\n",
       "      <td>...</td>\n",
       "      <td>0</td>\n",
       "      <td>0</td>\n",
       "      <td>0</td>\n",
       "      <td>0</td>\n",
       "      <td>0</td>\n",
       "      <td>0</td>\n",
       "      <td>0</td>\n",
       "      <td>0</td>\n",
       "      <td>0</td>\n",
       "      <td>0</td>\n",
       "    </tr>\n",
       "    <tr>\n",
       "      <th>4</th>\n",
       "      <td>2922</td>\n",
       "      <td>272</td>\n",
       "      <td>1</td>\n",
       "      <td>0</td>\n",
       "      <td>0</td>\n",
       "      <td>0</td>\n",
       "      <td>0</td>\n",
       "      <td>0</td>\n",
       "      <td>1</td>\n",
       "      <td>0</td>\n",
       "      <td>...</td>\n",
       "      <td>0</td>\n",
       "      <td>0</td>\n",
       "      <td>0</td>\n",
       "      <td>0</td>\n",
       "      <td>0</td>\n",
       "      <td>0</td>\n",
       "      <td>0</td>\n",
       "      <td>0</td>\n",
       "      <td>0</td>\n",
       "      <td>0</td>\n",
       "    </tr>\n",
       "  </tbody>\n",
       "</table>\n",
       "<p>5 rows × 30 columns</p>\n",
       "</div>"
      ],
      "text/plain": [
       "   user_id  amount_currency  transaction_day  transaction_BBU  \\\n",
       "0     6549              350                1                0   \n",
       "1     6903              202                1                0   \n",
       "2     4863              291                1                0   \n",
       "3     8005              214                1                0   \n",
       "4     2922              272                1                0   \n",
       "\n",
       "   transaction_BUB  transaction_CT  transaction_DD  transaction_DR  \\\n",
       "0                0               0               0               0   \n",
       "1                0               0               0               0   \n",
       "2                0               0               0               0   \n",
       "3                0               0               0               0   \n",
       "4                0               0               0               0   \n",
       "\n",
       "   transaction_DT  transaction_FT  ...  mcc_group_8  mcc_group_9  \\\n",
       "0               1               0  ...            0            0   \n",
       "1               1               0  ...            0            0   \n",
       "2               1               0  ...            0            0   \n",
       "3               1               0  ...            0            0   \n",
       "4               1               0  ...            0            0   \n",
       "\n",
       "   mcc_group_10  mcc_group_11  mcc_group_12  mcc_group_13  mcc_group_14  \\\n",
       "0             0             0             0             0             0   \n",
       "1             0             0             0             0             0   \n",
       "2             0             0             0             0             0   \n",
       "3             0             0             0             0             0   \n",
       "4             0             0             0             0             0   \n",
       "\n",
       "   mcc_group_15  mcc_group_16  mcc_group_17  \n",
       "0             0             0             0  \n",
       "1             0             0             0  \n",
       "2             0             0             0  \n",
       "3             0             0             0  \n",
       "4             0             0             0  \n",
       "\n",
       "[5 rows x 30 columns]"
      ]
     },
     "execution_count": 12,
     "metadata": {},
     "output_type": "execute_result"
    }
   ],
   "source": [
    "raw_data.head()"
   ]
  },
  {
   "cell_type": "markdown",
   "metadata": {},
   "source": [
    "### Splitting the dataset\n",
    "- Splitting the dataset in: train, validation (hyperparameter tuning) and test sets"
   ]
  },
  {
   "cell_type": "code",
   "execution_count": 14,
   "metadata": {},
   "outputs": [],
   "source": [
    "from sklearn.model_selection import train_test_split\n",
    "from imblearn.over_sampling import SMOTE\n",
    "import numpy as np\n",
    "\n",
    "\n",
    "def random_undersampling_regression(X, y, ratio=0.6, random_state=42):\n",
    "    \"\"\"\n",
    "    Perform random undersampling to balance the classes for regression problems.\n",
    "    \n",
    "    Parameters:\n",
    "    X (array-like): Features.\n",
    "    y (array-like): Target variable.\n",
    "    ratio (float): Ratio of majority class samples to keep. Default is 1.0 (keeping all samples).\n",
    "    random_state (int): Random seed for reproducibility.\n",
    "    \n",
    "    Returns:\n",
    "    X_resampled (array-like): Undersampled features.\n",
    "    y_resampled (array-like): Undersampled target variable.\n",
    "    \"\"\"\n",
    "    # Combine features and target into one array\n",
    "    data = np.column_stack((X, y))\n",
    "    \n",
    "    # Shuffle the data\n",
    "    np.random.seed(random_state)\n",
    "    np.random.shuffle(data)\n",
    "    \n",
    "    # Calculate the number of samples to keep\n",
    "    n_samples_keep = int(len(data) * ratio)\n",
    "    \n",
    "    # Select a subset of samples\n",
    "    undersampled_data = data[:n_samples_keep]\n",
    "    \n",
    "    # Separate features and target variable\n",
    "    X_resampled = undersampled_data[:, :-1]\n",
    "    y_resampled = undersampled_data[:, -1]\n",
    "    \n",
    "    return X_resampled, y_resampled\n",
    "\n",
    "y = raw_data['amount_currency']\n",
    "x = raw_data.drop(columns=['amount_currency'])\n",
    "x_train_temp, x_test, y_train_temp, y_test = train_test_split(x, y, test_size=0.2, random_state=42)\n",
    "# Applying undersampling to reduce imbalance\n",
    "x_train_resampled, y_train_resampled = random_undersampling_regression(x_train_temp, y_train_temp)\n",
    "# Further split the temporary set into validation and test sets\n",
    "x_train, x_val, y_train, y_val = train_test_split(x_train_resampled, y_train_resampled, test_size=0.25, random_state=42)\n",
    "\n"
   ]
  },
  {
   "cell_type": "markdown",
   "metadata": {},
   "source": [
    "## MODEL TRAINING"
   ]
  },
  {
   "cell_type": "markdown",
   "metadata": {},
   "source": [
    "### Initial model training"
   ]
  },
  {
   "cell_type": "code",
   "execution_count": 15,
   "metadata": {},
   "outputs": [
    {
     "name": "stdout",
     "output_type": "stream",
     "text": [
      "Mean Squared Error (MSE) scores: [11354.22262324 10722.05546561 10737.50683569 10318.0423951\n",
      " 10985.84427342]\n",
      "Mean MSE: 10823.53431861223\n",
      "Standard Deviation of MSE: 340.9385188737055\n"
     ]
    }
   ],
   "source": [
    "from sklearn.model_selection import cross_val_score\n",
    "from sklearn.ensemble import RandomForestRegressor\n",
    "from sklearn.metrics import mean_squared_error\n",
    "\n",
    "# Random Forest Regressor model using the default hyperparameters values\n",
    "rf_regressor = RandomForestRegressor(random_state=42)\n",
    "\n",
    "cv_scores = cross_val_score(rf_regressor, x_train, y_train, cv=5, scoring='neg_mean_squared_error')\n",
    "\n",
    "# Convert negative MSE scores to positive values\n",
    "mse_scores = -cv_scores\n",
    "\n",
    "# Calculate mean and standard deviation of MSE scores\n",
    "mean_mse = mse_scores.mean()\n",
    "std_mse = mse_scores.std()\n",
    "\n",
    "print(\"Mean Squared Error (MSE) scores:\", mse_scores)\n",
    "print(\"Mean MSE:\", mean_mse)\n",
    "print(\"Standard Deviation of MSE:\", std_mse)\n"
   ]
  },
  {
   "cell_type": "markdown",
   "metadata": {},
   "source": [
    "### Hyperparameter \n",
    "\n",
    "- Optimization of the same regression model used in training.\n",
    "- Utilizing BayesSearch algorithm for efficiency.\n",
    "- Aim: Identify hyperparameter configuration maximizing model performance.\n",
    "- Goal: Enhance predictive accuracy and generalization ability."
   ]
  },
  {
   "cell_type": "code",
   "execution_count": 16,
   "metadata": {},
   "outputs": [
    {
     "name": "stdout",
     "output_type": "stream",
     "text": [
      "Fitting 5 folds for each of 1 candidates, totalling 5 fits\n",
      "[CV 1/5] END max_depth=5, min_samples_leaf=2, min_samples_split=5, n_estimators=66;, score=-10367.497 total time=  15.2s\n",
      "[CV 2/5] END max_depth=5, min_samples_leaf=2, min_samples_split=5, n_estimators=66;, score=-9974.947 total time=  15.1s\n",
      "[CV 3/5] END max_depth=5, min_samples_leaf=2, min_samples_split=5, n_estimators=66;, score=-9849.475 total time=  13.6s\n",
      "[CV 4/5] END max_depth=5, min_samples_leaf=2, min_samples_split=5, n_estimators=66;, score=-9640.503 total time=  13.6s\n",
      "[CV 5/5] END max_depth=5, min_samples_leaf=2, min_samples_split=5, n_estimators=66;, score=-10078.451 total time=  13.8s\n",
      "Fitting 5 folds for each of 1 candidates, totalling 5 fits\n",
      "[CV 1/5] END max_depth=9, min_samples_leaf=3, min_samples_split=3, n_estimators=98;, score=-10204.719 total time=  30.9s\n",
      "[CV 2/5] END max_depth=9, min_samples_leaf=3, min_samples_split=3, n_estimators=98;, score=-9810.950 total time=  31.4s\n",
      "[CV 3/5] END max_depth=9, min_samples_leaf=3, min_samples_split=3, n_estimators=98;, score=-9749.462 total time=  32.3s\n",
      "[CV 4/5] END max_depth=9, min_samples_leaf=3, min_samples_split=3, n_estimators=98;, score=-9518.135 total time=  32.9s\n",
      "[CV 5/5] END max_depth=9, min_samples_leaf=3, min_samples_split=3, n_estimators=98;, score=-9913.714 total time=  31.2s\n",
      "Fitting 5 folds for each of 1 candidates, totalling 5 fits\n",
      "[CV 1/5] END max_depth=5, min_samples_leaf=3, min_samples_split=2, n_estimators=72;, score=-10368.974 total time=  15.4s\n",
      "[CV 2/5] END max_depth=5, min_samples_leaf=3, min_samples_split=2, n_estimators=72;, score=-9973.791 total time=  16.6s\n",
      "[CV 3/5] END max_depth=5, min_samples_leaf=3, min_samples_split=2, n_estimators=72;, score=-9848.578 total time=  16.1s\n",
      "[CV 4/5] END max_depth=5, min_samples_leaf=3, min_samples_split=2, n_estimators=72;, score=-9640.587 total time=  15.6s\n",
      "[CV 5/5] END max_depth=5, min_samples_leaf=3, min_samples_split=2, n_estimators=72;, score=-10076.817 total time=  15.0s\n",
      "Fitting 5 folds for each of 1 candidates, totalling 5 fits\n",
      "[CV 1/5] END max_depth=8, min_samples_leaf=1, min_samples_split=4, n_estimators=90;, score=-10237.420 total time=  35.7s\n",
      "[CV 2/5] END max_depth=8, min_samples_leaf=1, min_samples_split=4, n_estimators=90;, score=-9858.583 total time=  32.9s\n",
      "[CV 3/5] END max_depth=8, min_samples_leaf=1, min_samples_split=4, n_estimators=90;, score=-9766.938 total time=  26.4s\n",
      "[CV 4/5] END max_depth=8, min_samples_leaf=1, min_samples_split=4, n_estimators=90;, score=-9551.400 total time=  30.3s\n",
      "[CV 5/5] END max_depth=8, min_samples_leaf=1, min_samples_split=4, n_estimators=90;, score=-9953.629 total time=  30.2s\n",
      "Fitting 5 folds for each of 1 candidates, totalling 5 fits\n",
      "[CV 1/5] END max_depth=8, min_samples_leaf=2, min_samples_split=4, n_estimators=86;, score=-10242.109 total time=  25.1s\n",
      "[CV 2/5] END max_depth=8, min_samples_leaf=2, min_samples_split=4, n_estimators=86;, score=-9853.188 total time=  27.2s\n",
      "[CV 3/5] END max_depth=8, min_samples_leaf=2, min_samples_split=4, n_estimators=86;, score=-9774.739 total time=  29.1s\n",
      "[CV 4/5] END max_depth=8, min_samples_leaf=2, min_samples_split=4, n_estimators=86;, score=-9554.234 total time=  33.2s\n",
      "[CV 5/5] END max_depth=8, min_samples_leaf=2, min_samples_split=4, n_estimators=86;, score=-9953.084 total time=  29.6s\n",
      "Best Hyperparameters: OrderedDict({'max_depth': 9, 'min_samples_leaf': 3, 'min_samples_split': 3, 'n_estimators': 98})\n"
     ]
    }
   ],
   "source": [
    "from skopt import BayesSearchCV\n",
    "from skopt.space import Integer\n",
    "from sklearn.ensemble import RandomForestRegressor\n",
    "\n",
    "# Define the simplified search space\n",
    "param_space = {\n",
    "    'n_estimators': Integer(50, 100),      # Reduce range of number of trees\n",
    "    'max_depth': Integer(1, 10),            # Reduce range of maximum depth\n",
    "    'min_samples_split': Integer(2, 5),     # Reduce range of minimum samples required to split a node\n",
    "    'min_samples_leaf': Integer(1, 3)       # Reduce range of minimum samples required at each leaf node\n",
    "}\n",
    "\n",
    "# Create a Random Forest Regressor model\n",
    "rf_regressor = RandomForestRegressor(random_state=42)\n",
    "\n",
    "# Perform Bayesian optimization with cross-validation\n",
    "bayes_search = BayesSearchCV(\n",
    "    estimator=rf_regressor, \n",
    "    search_spaces=param_space, \n",
    "    n_iter=5,           # Reduced number of iterations\n",
    "    cv=5,                # Number of folds for cross-validation\n",
    "    scoring='neg_mean_squared_error', \n",
    "    random_state=42,\n",
    "    verbose=3            # Set verbosity to see progress\n",
    ")\n",
    "bayes_search.fit(x_train, y_train)\n",
    "\n",
    "# Print the best hyperparameters\n",
    "print(\"Best Hyperparameters:\", bayes_search.best_params_)"
   ]
  },
  {
   "cell_type": "code",
   "execution_count": 17,
   "metadata": {},
   "outputs": [
    {
     "name": "stdout",
     "output_type": "stream",
     "text": [
      "Mean Squared Error on Validation Set: 10143.82531711268\n"
     ]
    }
   ],
   "source": [
    "# Evaluate the best model on the validation set\n",
    "best_model = bayes_search.best_estimator_\n",
    "predicted_val = best_model.predict(x_val)\n",
    "mse_val = mean_squared_error(y_val, predicted_val)\n",
    "print(\"Mean Squared Error on Validation Set:\", mse_val)"
   ]
  },
  {
   "cell_type": "markdown",
   "metadata": {},
   "source": [
    "## EVALUATION\n",
    "\n",
    "- Mean Squared Error (MSE): Measures the average squared difference between predicted and actual values, providing a measure of prediction accuracy.\n",
    "- Root Mean Squared Error (RMSE): Represents the square root of MSE, indicating the average error in the predicted values.\n",
    "- Mean Absolute Error (MAE): Calculates the average absolute difference between predicted and actual values, offering another measure of prediction accuracy.\n",
    "- Explained Variance Score: Indicates the proportion of variance in the target variable explained by the model, with higher values indicating better predictive performance.\n",
    "- Median Absolute Error (MedAE): Computes the median absolute difference between predicted and actual values, providing a robust measure of central tendency.\n",
    "- R-squared (R2) Score: Measures the proportion of variance in the target variable explained by the model, with values closer to 1 indicating better model fit."
   ]
  },
  {
   "cell_type": "code",
   "execution_count": 18,
   "metadata": {},
   "outputs": [
    {
     "name": "stdout",
     "output_type": "stream",
     "text": [
      "Mean Squared Error on Test Set: 10224.199144233266\n"
     ]
    }
   ],
   "source": [
    "# Finally, train the final model on the entire train and validation sets using the best hyperparameters obtained\n",
    "final_model = best_model.fit(x_train_temp, y_train_temp)\n",
    "\n",
    "# Save the final model to a file using pickle\n",
    "with open('./model/final_model.pkl', 'wb') as file:\n",
    "    pickle.dump(final_model, file)\n",
    "\n",
    "# Evaluate the final model on the test set\n",
    "predicted_test = final_model.predict(x_test)\n",
    "mse_test = mean_squared_error(y_test, predicted_test)\n",
    "print(\"Mean Squared Error on Test Set:\", mse_test)"
   ]
  },
  {
   "cell_type": "code",
   "execution_count": 19,
   "metadata": {},
   "outputs": [
    {
     "name": "stdout",
     "output_type": "stream",
     "text": [
      "Evaluation Metrics:\n",
      "Mean Squared Error (MSE): 10224.20\n",
      "Root Mean Squared Error (RMSE): 101.11\n",
      "Mean Absolute Error (MAE): 48.19\n",
      "Explained Variance Score: 0.20\n",
      "Median Absolute Error (MedAE): 19.95\n",
      "R-squared (R2) Score: 0.20\n"
     ]
    }
   ],
   "source": [
    "import matplotlib.pyplot as plt\n",
    "import numpy as np\n",
    "from sklearn.metrics import mean_squared_error, r2_score, mean_absolute_error, explained_variance_score, median_absolute_error\n",
    "\n",
    "# Evaluate the best model\n",
    "predicted_test = final_model.predict(x_test)\n",
    "\n",
    "# Calculate evaluation metrics\n",
    "mse = mean_squared_error(y_test, predicted_test)\n",
    "rmse = np.sqrt(mse)\n",
    "mae = mean_absolute_error(y_test, predicted_test)\n",
    "explained_variance = explained_variance_score(y_test, predicted_test)\n",
    "medae = median_absolute_error(y_test, predicted_test)\n",
    "r2 = r2_score(y_test, predicted_test)\n",
    "\n",
    "# Print evaluation metrics\n",
    "print(\"Evaluation Metrics:\")\n",
    "print(f\"Mean Squared Error (MSE): {mse:.2f}\")\n",
    "print(f\"Root Mean Squared Error (RMSE): {rmse:.2f}\")\n",
    "print(f\"Mean Absolute Error (MAE): {mae:.2f}\")\n",
    "print(f\"Explained Variance Score: {explained_variance:.2f}\")\n",
    "print(f\"Median Absolute Error (MedAE): {medae:.2f}\")\n",
    "print(f\"R-squared (R2) Score: {r2:.2f}\")\n"
   ]
  },
  {
   "cell_type": "code",
   "execution_count": 20,
   "metadata": {},
   "outputs": [
    {
     "data": {
      "image/png": "[encoded data removed]",
      "text/plain": [
       "<Figure size 800x600 with 1 Axes>"
      ]
     },
     "metadata": {},
     "output_type": "display_data"
    },
    {
     "data": {
      "image/png": "[encoded data removed]",
      "text/plain": [
       "<Figure size 800x600 with 1 Axes>"
      ]
     },
     "metadata": {},
     "output_type": "display_data"
    }
   ],
   "source": [
    "import matplotlib.pyplot as plt\n",
    "import numpy as np\n",
    "\n",
    "# Example data\n",
    "actual_values = y_test\n",
    "predicted_values = predicted_test\n",
    "\n",
    "# Scatter plot of predicted vs. actual values\n",
    "plt.figure(figsize=(8, 6))\n",
    "plt.scatter(actual_values, predicted_values, color='blue', label='Predicted vs. Actual')\n",
    "plt.plot([min(actual_values), max(actual_values)], \n",
    "         [min(actual_values), max(actual_values)], \n",
    "         color='red', linestyle='--', label='Perfect Prediction')\n",
    "plt.xlabel('Actual Values')\n",
    "plt.ylabel('Predicted Values')\n",
    "plt.title('Actual vs. Predicted Values')\n",
    "plt.legend()\n",
    "plt.grid(True)\n",
    "plt.tight_layout()\n",
    "plt.show()\n",
    "\n",
    "# Histogram of transaction amounts\n",
    "plt.figure(figsize=(8, 6))\n",
    "plt.hist(actual_values, bins=10, color='skyblue', edgecolor='black', alpha=0.7)\n",
    "plt.xlabel('Transaction Amounts')\n",
    "plt.ylabel('Frequency')\n",
    "plt.title('Distribution of Transaction Amounts')\n",
    "plt.grid(True)\n",
    "plt.tight_layout()\n",
    "plt.show()\n"
   ]
  },
  {
   "cell_type": "code",
   "execution_count": null,
   "metadata": {},
   "outputs": [],
   "source": []
  },
  {
   "cell_type": "code",
   "execution_count": null,
   "metadata": {},
   "outputs": [],
   "source": []
  }
 ],
 "metadata": {
  "kernelspec": {
   "display_name": "case_study",
   "language": "python",
   "name": "python3"
  },
  "language_info": {
   "codemirror_mode": {
    "name": "ipython",
    "version": 3
   },
   "file_extension": ".py",
   "mimetype": "text/x-python",
   "name": "python",
   "nbconvert_exporter": "python",
   "pygments_lexer": "ipython3",
   "version": "3.12.3"
  }
 },
 "nbformat": 4,
 "nbformat_minor": 2
}
